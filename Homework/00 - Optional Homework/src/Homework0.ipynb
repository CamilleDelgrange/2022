{
 "cells": [
  {
   "cell_type": "markdown",
   "metadata": {},
   "source": [
    "**HOMEWORK 00:**"
   ]
  },
  {
   "cell_type": "code",
   "execution_count": 49,
   "metadata": {},
   "outputs": [
    {
     "data": {
      "text/plain": [
       "'\\n File name: Homework0.ipynb\\n Author: Camille Delgrange\\n Date created: 25/09/2022\\n Date last modified: 25/09/2022\\n Python Version: 3.9\\n '"
      ]
     },
     "execution_count": 49,
     "metadata": {},
     "output_type": "execute_result"
    }
   ],
   "source": [
    "'''\n",
    " File name: Homework0.ipynb\n",
    " Author: Camille Delgrange\n",
    " Date created: 25/09/2022\n",
    " Date last modified: 25/09/2022\n",
    " Python Version: 3.9\n",
    " '''"
   ]
  },
  {
   "cell_type": "code",
   "execution_count": 50,
   "metadata": {},
   "outputs": [
    {
     "name": "stdout",
     "output_type": "stream",
     "text": [
      "     Unnamed: 0         Intent         Gender            Age  \\\n",
      "0             1  None selected  None selected  None selected   \n",
      "1             2  None selected  None selected  None selected   \n",
      "2             3  None selected  None selected  None selected   \n",
      "3             4  None selected  None selected  None selected   \n",
      "4             5  None selected  None selected  None selected   \n",
      "..          ...            ...            ...            ...   \n",
      "535         536        Unknown           Male              5   \n",
      "536         537        Unknown           Male              5   \n",
      "537         538        Unknown           Male              5   \n",
      "538         539        Unknown           Male              5   \n",
      "539         540        Unknown           Male              5   \n",
      "\n",
      "                       Race  Deaths  Population  Rate  \n",
      "0             None selected   33599   316299978  10.6  \n",
      "1                     White   22079   197369634  11.2  \n",
      "2                     Black    7765    38896382  20.0  \n",
      "3                  Hispanic    3007    54049078   5.6  \n",
      "4    Asian/Pacific Islander     442    16315561   2.7  \n",
      "..                      ...     ...         ...   ...  \n",
      "535                   White       0           0   NaN  \n",
      "536                   Black       0           0   NaN  \n",
      "537                Hispanic       0           0   NaN  \n",
      "538  Asian/Pacific Islander       0           0   NaN  \n",
      "539                   Other       0           0   NaN  \n",
      "\n",
      "[540 rows x 8 columns]\n"
     ]
    }
   ],
   "source": [
    "import pandas as pd\n",
    "df = pd.read_csv('../data/interactive_data.csv')\n",
    "print(df)"
   ]
  },
  {
   "cell_type": "code",
   "execution_count": 55,
   "metadata": {},
   "outputs": [
    {
     "data": {
      "text/plain": [
       "array(['None selected', 'Suicide', 'Homicide', 'Accident', 'Unknown'],\n",
       "      dtype=object)"
      ]
     },
     "execution_count": 55,
     "metadata": {},
     "output_type": "execute_result"
    }
   ],
   "source": [
    "df['Intent'].unique()"
   ]
  },
  {
   "cell_type": "code",
   "execution_count": 92,
   "metadata": {},
   "outputs": [
    {
     "name": "stdout",
     "output_type": "stream",
     "text": [
      "['None selected' 'Female' 'Male']\n",
      "['None selected' 'White' 'Black' 'Hispanic' 'Asian/Pacific Islander'\n",
      " 'Other']\n",
      "['None selected' 'Under 15' '15 - 34' '35 - 64' '65+' '5']\n"
     ]
    }
   ],
   "source": [
    "print(df['Gender'].unique())\n",
    "print(df['Race'].unique())\n",
    "print(df['Age'].unique())\n",
    "#print(df['Deaths'].unique())\n"
   ]
  },
  {
   "cell_type": "code",
   "execution_count": 99,
   "metadata": {},
   "outputs": [
    {
     "name": "stdout",
     "output_type": "stream",
     "text": [
      "Total numbers of gun deaths (with intent):\n",
      "268789\n"
     ]
    }
   ],
   "source": [
    "print(\"Total numbers of gun deaths (with intent):\")\n",
    "TGD=df.loc[df['Intent']!='None selected']['Deaths'].sum()\n",
    "print(TGD)"
   ]
  },
  {
   "cell_type": "code",
   "execution_count": 58,
   "metadata": {},
   "outputs": [
    {
     "name": "stdout",
     "output_type": "stream",
     "text": [
      "Numbers of suicides:\n",
      "168464\n",
      "2/3 of gun deaths are suicides:\n",
      "0.6267518388029272\n"
     ]
    }
   ],
   "source": [
    "print(\"Numbers of suicides:\")\n",
    "Suicides=df.loc[df['Intent']=='Suicide']['Deaths'].sum()\n",
    "print(Suicides)\n",
    "print(\"Nearly *two-thirds* of gun deaths are *suicides*\")\n",
    "print(Suicides/TGD)"
   ]
  },
  {
   "cell_type": "code",
   "execution_count": 75,
   "metadata": {},
   "outputs": [
    {
     "name": "stdout",
     "output_type": "stream",
     "text": [
      "Total numbers of males amongst suicides:\n",
      "72646\n",
      "Total numbers of females amongst suicides:\n",
      "11587\n",
      "More than *85 percent* of suicide victims are *male*:\n",
      "0.8624410860351643\n"
     ]
    }
   ],
   "source": [
    "#why can't we divide Males/Suicides ?? Did not get the \"None selected argument\"\n",
    "print(\"Total numbers of males amongst suicides:\")\n",
    "Males=df.loc[df['Intent']=='Suicide'].loc[df['Gender']=='Male']['Deaths'].sum()\n",
    "print(Males)\n",
    "Females=df.loc[df['Intent']=='Suicide'].loc[df['Gender']=='Female']['Deaths'].sum()\n",
    "print(\"Total numbers of females amongst suicides:\")\n",
    "print(Females)\n",
    "print(\"More than *85 percent* of suicide victims are *male*:\")\n",
    "print(Males/(Females+Males))"
   ]
  },
  {
   "cell_type": "code",
   "execution_count": 76,
   "metadata": {},
   "outputs": [
    {
     "name": "stdout",
     "output_type": "stream",
     "text": [
      "Total numbers of homicides:\n",
      "93808\n",
      "Around *a third* of all gun deaths are *homicides*:\n",
      "0.3490023773294294\n"
     ]
    }
   ],
   "source": [
    "print(\"Total numbers of homicides:\")\n",
    "Homicides=df.loc[df['Intent']=='Homicide']['Deaths'].sum()\n",
    "print(Homicides)\n",
    "print(\"Around *a third* of all gun deaths are *homicides*:\")\n",
    "print(Homicides/TGD)\n"
   ]
  },
  {
   "cell_type": "code",
   "execution_count": 97,
   "metadata": {},
   "outputs": [
    {
     "name": "stdout",
     "output_type": "stream",
     "text": [
      "Total numbers of 15-34 years males amongst homicides:\n",
      "13041\n",
      "Total numbers of 15-34 years males amongst homicides who are black:\n",
      "4312\n",
      "Around *two-thirds* of homicide victims who are *males* in the *age-group of *15-34* are *black*:\n",
      "8694.0\n"
     ]
    }
   ],
   "source": [
    "print(\"Total numbers of 15-34 years males amongst homicides:\")\n",
    "TYM=df.loc[df['Intent']=='Homicide'].loc[df['Gender']=='Male'].loc[df['Age']=='15 - 34']['Deaths'].sum()\n",
    "print(TYM)\n",
    "print(\"Total numbers of 15-34 years males amongst homicides who are black:\")\n",
    "BTYM=df.loc[df['Intent']=='Homicide'].loc[df['Gender']=='Male'].loc[df['Age']=='15 - 34'].loc[df['Race']=='Black']['Deaths'].sum()\n",
    "print(BTYM)\n",
    "print(\"Around *two-thirds* of homicide victims who are *males* in the *age-group of *15-34* are *black*:\")\n",
    "print((2/3)*(TYM))"
   ]
  }
 ],
 "metadata": {
  "interpreter": {
   "hash": "8a04086ede2c9fba8dded5ae1d3862c5ce141bc2778c1114f47c151057d7c332"
  },
  "kernelspec": {
   "display_name": "Python 3.9.13 ('ada')",
   "language": "python",
   "name": "python3"
  },
  "language_info": {
   "codemirror_mode": {
    "name": "ipython",
    "version": 3
   },
   "file_extension": ".py",
   "mimetype": "text/x-python",
   "name": "python",
   "nbconvert_exporter": "python",
   "pygments_lexer": "ipython3",
   "version": "3.9.13"
  },
  "orig_nbformat": 4
 },
 "nbformat": 4,
 "nbformat_minor": 2
}
