{
 "cells": [
  {
   "cell_type": "markdown",
   "id": "09e9a536",
   "metadata": {},
   "source": [
    "## ADA final exam (Fall 2022)\n",
    "\n",
    "This exam consists of 3 tasks. Tasks 2 and 3 are independent of each other (although conceptually related).\n"
   ]
  },
  {
   "cell_type": "markdown",
   "id": "68507ec4",
   "metadata": {},
   "source": [
    "## Dataset\n",
    "\n",
    "For a Wikipedia editor to become an administrator, a so-called “request for adminship” ([RfA](https://en.wikipedia.org/wiki/Wikipedia:Requests_for_adminship)) must be submitted by either the candidate or another community member. Subsequently, any Wikipedia member may cast a supporting or opposing vote. Here we provide a simplified version of the Wikipedia RfA dataset, containing all votes from 2003 through 2012.\n",
    "\n",
    "###  Data format\n",
    "\n",
    "|        |   SRC |   TGT |   VOT |   RES |   YEA | DAT                 | TXT                                                                                                                                                                                               |\n",
    "|-------:|------:|------:|------:|------:|------:|:--------------------|:--------------------------------------------------------------------------------------------------------------------------------------------------------------------------------------------------|\n",
    "|  39054 |  3444 | 10170 |     1 |     1 |  2009 | 2009-07-01 17:50:00 | '''Support''' - Best of luck. &nbsp;                                                                                                                                                              |\n",
    "| 159680 |   722 |  9634 |    -1 |    -1 |  2006 | 2006-12-15 07:28:00 | '''Oppose''' Not even 2000 edits.                                                                                                                                                                 |\n",
    "| 173438 |  4194 |  5524 |     1 |     1 |  2005 | 2005-03-18 19:22:00 | Ohhh, you're Carrp!  In that case, '''Support'''.                                                                                                                                                 |\n",
    "|  60627 |  4855 |  9436 |     1 |     1 |  2008 | 2008-12-18 23:26:00 | '''Support''' via thoughtful answer to my question that demonstrates this editor has clue.                                                 |\n",
    "| 194809 |  7687 |   908 |     1 |     1 |  2004 | 2004-09-25 05:21:00 | Nicholas is very good in English. Also, he got '''exceptional''' patience to explain petty obvious facts in talk page to convince ignorants. Let the world be benefitted more out of his work. -- |\n",
    "\n",
    "\n",
    "- SRC: the user name of the source of the vote, i.e., of the user who cast the vote.\n",
    "- TGT: the user name of the target of the vote, i.e., of the user running for election.\n",
    "- VOT: the source's vote on the target (-1 = oppose; 1 = support).\n",
    "- RES: the outcome of the election (-1 = target was rejected as admin; 1 = target was accepted). **(We will not use this  column in this exam.)**\n",
    "- YEA: the year of the RfA.\n",
    "- DAT: the date and time of this vote. **(We will not use this column in this exam.)**\n",
    "- TXT: the comment written by the source. **(We will not use this column in this exam.)**\n",
    "\n",
    "---\n"
   ]
  },
  {
   "cell_type": "markdown",
   "id": "4a4a661c",
   "metadata": {},
   "source": [
    "## Structural balance theory\n",
    "\n",
    "**Structural balance theory** affirms that social networks tend to be organized so as to avoid conflictual situations, e.g., if a great friend of yours hates someone, you will likely not befriend that person.\n",
    "\n",
    "The theory can be operationalized by looking at _triangles_ in an undirected _signed graph_ capturing person-to-person relationships, where a _signed graph_ is a  graph in which each edge is associated with a positive or negative sign, and a _triangle_ is a set of three edges ($\\langle u,v \\rangle$, $\\langle v,w\\rangle$, $\\langle u,w\\rangle$) that fully connect three distinct nodes ($u, v, w$).\n",
    "\n",
    "\n",
    "\n",
    "_Triangles_ in an undirected signed graph can be in 4 _configurations_:\n",
    "all positive edges ($\\{+,+,+\\}$); \n",
    "all negative edges ($\\{-,-,-\\}$); \n",
    "two positive edges and one negative edge ($\\{+,+,-\\}$);\n",
    "one positive edge and two negative edges ($\\{+,-,-\\}$).\n",
    "\n",
    "Structural balance theory posits that social networks tend to favor triangle configurations with an even number of negative signs (i.e., $\\{+,+,+\\}$ and $\\{+,-,-\\}$), which can be understood as being “balanced” by avoiding conflictual situations. Intuitively, $\\{+,+,+\\}$ could be tagged as “The friend of my friend is my friend”, and $\\{+,-,-\\}$ as “The enemy of my enemy is my friend”, “The friend of my enemy is my enemy”, or “The enemy of my friend is my enemy”. On the contrary, triangle configurations with an odd number of negative signs (i.e., $\\{+,+,-\\}$ and $\\{-,-,-\\}$) are unstable (“unbalanced”) according to structural balance theory and will thus occur less frequently in social networks. For instance, me being friends with two mutual enemies ($\\{+,+,-\\}$) would lead to tension that could be resolved if the two enemies became friends or if I took sides and ended my friendship with one of the two. Similarly, two among three mutual enemies ($\\{-,-,-\\}$) would have the incentive to form an alliance to “gang up” against the third.\n",
    "\n",
    "Some social scientists have argued that three mutual enemies ($\\{-,-,-\\}$) is not necessarily a triangle configuration that social networks tend to avoid. This gives rise to **weak structural balance theory**, which only posits that social networks tend to avoid the “unbalanced” triangle configuration $\\{+,+,-\\}$.\n",
    "\n",
    "In a nutshell,\n",
    "- structural balance theory\n",
    "  - considers $\\{+,+,+\\}$, $\\{+,-,-\\}$ as balanced,\n",
    "  - and $\\{+,+,-\\}$, $\\{-,-,-\\}$ as unbalanced;\n",
    "- weak structural balance theory\n",
    "  - considers $\\{+,+,+\\}$, $\\{+,-,-\\}$, $\\{-,-,-\\}$ as balanced,\n",
    "  - and $\\{+,+,-\\}$ as unbalanced.\n",
    "\n"
   ]
  },
  {
   "cell_type": "markdown",
   "id": "d5f337c9",
   "metadata": {},
   "source": [
    "### Task 1: Preliminaries\n",
    "\n",
    "As a good data scientist, you first load the data and explore it.\n",
    "\n",
    "**1.1**\n",
    "Load the csv file `wiki-RfA.csv.gz` in a pandas dataframe. Calculate the number of distinct RfAs and the average number of votes per RfA.\n",
    "- **Hint:** Throughout this question, assume that each RfA is uniquely determined by the column `TGT` and each vote is uniquely determined by the combination of `SRC` and `TGT`."
   ]
  },
  {
   "cell_type": "code",
   "execution_count": 13,
   "id": "ff2e92a5",
   "metadata": {},
   "outputs": [],
   "source": [
    "# 1.1\n",
    "import pandas as pd\n",
    "wiki = pd.read_csv(\"wiki-RfA.csv\")"
   ]
  },
  {
   "cell_type": "code",
   "execution_count": 16,
   "id": "aedbc8aa",
   "metadata": {},
   "outputs": [
    {
     "data": {
      "text/html": [
       "<div>\n",
       "<style scoped>\n",
       "    .dataframe tbody tr th:only-of-type {\n",
       "        vertical-align: middle;\n",
       "    }\n",
       "\n",
       "    .dataframe tbody tr th {\n",
       "        vertical-align: top;\n",
       "    }\n",
       "\n",
       "    .dataframe thead th {\n",
       "        text-align: right;\n",
       "    }\n",
       "</style>\n",
       "<table border=\"1\" class=\"dataframe\">\n",
       "  <thead>\n",
       "    <tr style=\"text-align: right;\">\n",
       "      <th></th>\n",
       "      <th>SRC</th>\n",
       "      <th>TGT</th>\n",
       "      <th>VOT</th>\n",
       "      <th>RES</th>\n",
       "      <th>YEA</th>\n",
       "      <th>DAT</th>\n",
       "      <th>TXT</th>\n",
       "    </tr>\n",
       "  </thead>\n",
       "  <tbody>\n",
       "    <tr>\n",
       "      <th>0</th>\n",
       "      <td>5943</td>\n",
       "      <td>9966</td>\n",
       "      <td>-1</td>\n",
       "      <td>-1</td>\n",
       "      <td>2012</td>\n",
       "      <td>2012-12-30 22:27:00</td>\n",
       "      <td>—</td>\n",
       "    </tr>\n",
       "    <tr>\n",
       "      <th>1</th>\n",
       "      <td>9153</td>\n",
       "      <td>9966</td>\n",
       "      <td>-1</td>\n",
       "      <td>-1</td>\n",
       "      <td>2012</td>\n",
       "      <td>2012-12-30 22:25:00</td>\n",
       "      <td>'''Oppose'''. This joke really isn't funny, no...</td>\n",
       "    </tr>\n",
       "    <tr>\n",
       "      <th>2</th>\n",
       "      <td>4189</td>\n",
       "      <td>9966</td>\n",
       "      <td>-1</td>\n",
       "      <td>-1</td>\n",
       "      <td>2012</td>\n",
       "      <td>2012-12-30 22:17:00</td>\n",
       "      <td>'''Oppose''' as per nomination and answers. --...</td>\n",
       "    </tr>\n",
       "    <tr>\n",
       "      <th>3</th>\n",
       "      <td>3750</td>\n",
       "      <td>9966</td>\n",
       "      <td>-1</td>\n",
       "      <td>-1</td>\n",
       "      <td>2012</td>\n",
       "      <td>2012-12-30 22:14:00</td>\n",
       "      <td>'''Oppose''' and '''speeedy close''' this as [...</td>\n",
       "    </tr>\n",
       "    <tr>\n",
       "      <th>4</th>\n",
       "      <td>4225</td>\n",
       "      <td>9966</td>\n",
       "      <td>-1</td>\n",
       "      <td>-1</td>\n",
       "      <td>2012</td>\n",
       "      <td>2012-12-30 22:08:00</td>\n",
       "      <td>'''Oppose''' per nomination and answers. I am ...</td>\n",
       "    </tr>\n",
       "  </tbody>\n",
       "</table>\n",
       "</div>"
      ],
      "text/plain": [
       "    SRC   TGT  VOT  RES   YEA                  DAT  \\\n",
       "0  5943  9966   -1   -1  2012  2012-12-30 22:27:00   \n",
       "1  9153  9966   -1   -1  2012  2012-12-30 22:25:00   \n",
       "2  4189  9966   -1   -1  2012  2012-12-30 22:17:00   \n",
       "3  3750  9966   -1   -1  2012  2012-12-30 22:14:00   \n",
       "4  4225  9966   -1   -1  2012  2012-12-30 22:08:00   \n",
       "\n",
       "                                                 TXT  \n",
       "0                                                  —  \n",
       "1  '''Oppose'''. This joke really isn't funny, no...  \n",
       "2  '''Oppose''' as per nomination and answers. --...  \n",
       "3  '''Oppose''' and '''speeedy close''' this as [...  \n",
       "4  '''Oppose''' per nomination and answers. I am ...  "
      ]
     },
     "execution_count": 16,
     "metadata": {},
     "output_type": "execute_result"
    }
   ],
   "source": [
    "wiki.head()"
   ]
  },
  {
   "cell_type": "code",
   "execution_count": 15,
   "id": "e3fb95d7",
   "metadata": {},
   "outputs": [
    {
     "name": "stdout",
     "output_type": "stream",
     "text": [
      "167003\n"
     ]
    }
   ],
   "source": [
    "print(len(wiki))"
   ]
  },
  {
   "cell_type": "code",
   "execution_count": 12,
   "id": "119f459b",
   "metadata": {},
   "outputs": [
    {
     "data": {
      "text/plain": [
       "0    9966\n",
       "1    9966\n",
       "2    9966\n",
       "3    9966\n",
       "4    9966\n",
       "Name: TGT, dtype: int64"
      ]
     },
     "execution_count": 12,
     "metadata": {},
     "output_type": "execute_result"
    }
   ],
   "source": [
    "# TGT represents the user name of the user asking for an RfA:\n",
    "wiki.TGT.head(5)"
   ]
  },
  {
   "cell_type": "code",
   "execution_count": 13,
   "id": "f80b82ed",
   "metadata": {},
   "outputs": [
    {
     "name": "stdout",
     "output_type": "stream",
     "text": [
      "There are  3439  distinct RfAs\n"
     ]
    }
   ],
   "source": [
    "# Distinct RfAs:\n",
    "print(\"There are \", wiki.TGT.nunique(), \" distinct RfAs\")"
   ]
  },
  {
   "cell_type": "code",
   "execution_count": 18,
   "id": "66b40b43",
   "metadata": {},
   "outputs": [
    {
     "data": {
      "text/plain": [
       "TGT\n",
       "2         12\n",
       "4        106\n",
       "5         99\n",
       "7         14\n",
       "8          9\n",
       "        ... \n",
       "11008     49\n",
       "11010     60\n",
       "11013     74\n",
       "11014     14\n",
       "11015     12\n",
       "Name: VOT, Length: 3439, dtype: int64"
      ]
     },
     "execution_count": 18,
     "metadata": {},
     "output_type": "execute_result"
    }
   ],
   "source": [
    "# Number of votes per RfA:\n",
    "votes = wiki.groupby(\"TGT\")[\"VOT\"].count()\n",
    "votes"
   ]
  },
  {
   "cell_type": "code",
   "execution_count": 22,
   "id": "fe4d22b2",
   "metadata": {},
   "outputs": [
    {
     "name": "stdout",
     "output_type": "stream",
     "text": [
      "There are  48.56  votes in average per RfA\n"
     ]
    }
   ],
   "source": [
    "import math\n",
    "import numpy as np\n",
    "avg_votes = votes.mean()\n",
    "print(\"There are \", round(avg_votes,2), \" votes in average per RfA\")"
   ]
  },
  {
   "cell_type": "markdown",
   "id": "813b5a32",
   "metadata": {},
   "source": [
    "**1.2** \n",
    "In a single figure with three subfigures (one per item), show the following time series:\n",
    "- the number of RfAs per year;\n",
    "- the overall fraction of positive votes per year; and \n",
    "- the average number of votes per RfA per year.\n",
    "\n",
    "For each of the above three quantities, print the value for the year 2008."
   ]
  },
  {
   "cell_type": "code",
   "execution_count": 26,
   "id": "302889d0",
   "metadata": {},
   "outputs": [
    {
     "name": "stdout",
     "output_type": "stream",
     "text": [
      "3439\n"
     ]
    },
    {
     "data": {
      "text/plain": [
       "YEA\n",
       "2003     40\n",
       "2004    284\n",
       "2005    523\n",
       "2006    746\n",
       "2007    763\n",
       "2008    459\n",
       "2009    269\n",
       "2010    167\n",
       "2011    106\n",
       "2012     82\n",
       "Name: TGT, dtype: int64"
      ]
     },
     "execution_count": 26,
     "metadata": {},
     "output_type": "execute_result"
    }
   ],
   "source": [
    "# Number of RfAs per year:\n",
    "RfAs = wiki.sort_values(\"YEA\").drop_duplicates(subset=\"TGT\", keep=\"first\")\n",
    "RfAs = RfAs.groupby(\"YEA\")[\"TGT\"].count()\n",
    "# Check that we have the same number of RfAs in total:\n",
    "print(RfAs.sum())\n",
    "RfAs"
   ]
  },
  {
   "cell_type": "code",
   "execution_count": 74,
   "id": "87ce0a6b",
   "metadata": {},
   "outputs": [
    {
     "name": "stdout",
     "output_type": "stream",
     "text": [
      "The number of RfAs for 2008 is :\n",
      "YEA\n",
      "2008    459\n",
      "Name: TGT, dtype: int64\n"
     ]
    }
   ],
   "source": [
    "print(\"The number of RfAs for 2008 is :\")\n",
    "print(RfAs[RfAs.index == 2008])"
   ]
  },
  {
   "cell_type": "code",
   "execution_count": 38,
   "id": "9106c8a2",
   "metadata": {},
   "outputs": [
    {
     "data": {
      "text/html": [
       "<div>\n",
       "<style scoped>\n",
       "    .dataframe tbody tr th:only-of-type {\n",
       "        vertical-align: middle;\n",
       "    }\n",
       "\n",
       "    .dataframe tbody tr th {\n",
       "        vertical-align: top;\n",
       "    }\n",
       "\n",
       "    .dataframe thead th {\n",
       "        text-align: right;\n",
       "    }\n",
       "</style>\n",
       "<table border=\"1\" class=\"dataframe\">\n",
       "  <thead>\n",
       "    <tr style=\"text-align: right;\">\n",
       "      <th></th>\n",
       "      <th>SRC</th>\n",
       "      <th>TGT</th>\n",
       "      <th>VOT</th>\n",
       "      <th>RES</th>\n",
       "      <th>YEA</th>\n",
       "      <th>DAT</th>\n",
       "      <th>TXT</th>\n",
       "    </tr>\n",
       "  </thead>\n",
       "  <tbody>\n",
       "    <tr>\n",
       "      <th>167002</th>\n",
       "      <td>1011</td>\n",
       "      <td>7238</td>\n",
       "      <td>1</td>\n",
       "      <td>1</td>\n",
       "      <td>2003</td>\n",
       "      <td>2003-08-16 01:25:00</td>\n",
       "      <td>Support. --</td>\n",
       "    </tr>\n",
       "    <tr>\n",
       "      <th>166906</th>\n",
       "      <td>1581</td>\n",
       "      <td>10897</td>\n",
       "      <td>1</td>\n",
       "      <td>1</td>\n",
       "      <td>2003</td>\n",
       "      <td>2003-12-05 05:47:00</td>\n",
       "      <td>Support. Pakaran has shown an excellent unders...</td>\n",
       "    </tr>\n",
       "    <tr>\n",
       "      <th>166907</th>\n",
       "      <td>7289</td>\n",
       "      <td>10897</td>\n",
       "      <td>1</td>\n",
       "      <td>1</td>\n",
       "      <td>2003</td>\n",
       "      <td>2003-12-05 05:42:00</td>\n",
       "      <td>Support (and not because Wik opposed), since I...</td>\n",
       "    </tr>\n",
       "    <tr>\n",
       "      <th>166908</th>\n",
       "      <td>10897</td>\n",
       "      <td>8657</td>\n",
       "      <td>1</td>\n",
       "      <td>1</td>\n",
       "      <td>2003</td>\n",
       "      <td>2003-12-05 05:39:00</td>\n",
       "      <td>Support - I thought you were already a sysop! ...</td>\n",
       "    </tr>\n",
       "    <tr>\n",
       "      <th>166909</th>\n",
       "      <td>10897</td>\n",
       "      <td>5037</td>\n",
       "      <td>1</td>\n",
       "      <td>1</td>\n",
       "      <td>2003</td>\n",
       "      <td>2003-12-05 05:38:00</td>\n",
       "      <td>Support.  Age has nothing to do with maturity....</td>\n",
       "    </tr>\n",
       "    <tr>\n",
       "      <th>...</th>\n",
       "      <td>...</td>\n",
       "      <td>...</td>\n",
       "      <td>...</td>\n",
       "      <td>...</td>\n",
       "      <td>...</td>\n",
       "      <td>...</td>\n",
       "      <td>...</td>\n",
       "    </tr>\n",
       "    <tr>\n",
       "      <th>3951</th>\n",
       "      <td>10135</td>\n",
       "      <td>8278</td>\n",
       "      <td>-1</td>\n",
       "      <td>-1</td>\n",
       "      <td>2012</td>\n",
       "      <td>2012-06-16 22:01:00</td>\n",
       "      <td>'''Oppose'''. I would like to start by saying ...</td>\n",
       "    </tr>\n",
       "    <tr>\n",
       "      <th>3952</th>\n",
       "      <td>5651</td>\n",
       "      <td>8278</td>\n",
       "      <td>-1</td>\n",
       "      <td>-1</td>\n",
       "      <td>2012</td>\n",
       "      <td>2012-06-16 21:35:00</td>\n",
       "      <td>'''Oppose'''. I feel badly about this, because...</td>\n",
       "    </tr>\n",
       "    <tr>\n",
       "      <th>3953</th>\n",
       "      <td>2892</td>\n",
       "      <td>8278</td>\n",
       "      <td>1</td>\n",
       "      <td>-1</td>\n",
       "      <td>2012</td>\n",
       "      <td>2012-06-16 21:31:00</td>\n",
       "      <td>'''Support''' I respect one or two of the edit...</td>\n",
       "    </tr>\n",
       "    <tr>\n",
       "      <th>3944</th>\n",
       "      <td>6175</td>\n",
       "      <td>8278</td>\n",
       "      <td>-1</td>\n",
       "      <td>-1</td>\n",
       "      <td>2012</td>\n",
       "      <td>2012-06-17 04:09:00</td>\n",
       "      <td>'''Oppose''' due to evasive, poor, and incompl...</td>\n",
       "    </tr>\n",
       "    <tr>\n",
       "      <th>0</th>\n",
       "      <td>5943</td>\n",
       "      <td>9966</td>\n",
       "      <td>-1</td>\n",
       "      <td>-1</td>\n",
       "      <td>2012</td>\n",
       "      <td>2012-12-30 22:27:00</td>\n",
       "      <td>—</td>\n",
       "    </tr>\n",
       "  </tbody>\n",
       "</table>\n",
       "<p>167003 rows × 7 columns</p>\n",
       "</div>"
      ],
      "text/plain": [
       "          SRC    TGT  VOT  RES   YEA                  DAT  \\\n",
       "167002   1011   7238    1    1  2003  2003-08-16 01:25:00   \n",
       "166906   1581  10897    1    1  2003  2003-12-05 05:47:00   \n",
       "166907   7289  10897    1    1  2003  2003-12-05 05:42:00   \n",
       "166908  10897   8657    1    1  2003  2003-12-05 05:39:00   \n",
       "166909  10897   5037    1    1  2003  2003-12-05 05:38:00   \n",
       "...       ...    ...  ...  ...   ...                  ...   \n",
       "3951    10135   8278   -1   -1  2012  2012-06-16 22:01:00   \n",
       "3952     5651   8278   -1   -1  2012  2012-06-16 21:35:00   \n",
       "3953     2892   8278    1   -1  2012  2012-06-16 21:31:00   \n",
       "3944     6175   8278   -1   -1  2012  2012-06-17 04:09:00   \n",
       "0        5943   9966   -1   -1  2012  2012-12-30 22:27:00   \n",
       "\n",
       "                                                      TXT  \n",
       "167002                                        Support. --  \n",
       "166906  Support. Pakaran has shown an excellent unders...  \n",
       "166907  Support (and not because Wik opposed), since I...  \n",
       "166908  Support - I thought you were already a sysop! ...  \n",
       "166909  Support.  Age has nothing to do with maturity....  \n",
       "...                                                   ...  \n",
       "3951    '''Oppose'''. I would like to start by saying ...  \n",
       "3952    '''Oppose'''. I feel badly about this, because...  \n",
       "3953    '''Support''' I respect one or two of the edit...  \n",
       "3944    '''Oppose''' due to evasive, poor, and incompl...  \n",
       "0                                                       —  \n",
       "\n",
       "[167003 rows x 7 columns]"
      ]
     },
     "execution_count": 38,
     "metadata": {},
     "output_type": "execute_result"
    }
   ],
   "source": [
    "wiki.sort_values(\"YEA\")"
   ]
  },
  {
   "cell_type": "code",
   "execution_count": 41,
   "id": "1b7851b2",
   "metadata": {},
   "outputs": [
    {
     "name": "stderr",
     "output_type": "stream",
     "text": [
      "C:\\Users\\camil\\AppData\\Local\\Temp/ipykernel_19304/2009395210.py:4: UserWarning: Boolean Series key will be reindexed to match DataFrame index.\n",
      "  positive_votes = sorted[wiki[\"VOT\"]==1].groupby(\"YEA\")[\"VOT\"].count()\n"
     ]
    }
   ],
   "source": [
    "# Overall fraction of positive votes per year: supp=1\n",
    "sorted = wiki.sort_values(\"YEA\")\n",
    "votes = sorted.groupby([\"YEA\"])[\"VOT\"].count()\n",
    "positive_votes = sorted[wiki[\"VOT\"]==1].groupby(\"YEA\")[\"VOT\"].count()\n",
    "fraction_positive_votes = positive_votes/votes"
   ]
  },
  {
   "cell_type": "code",
   "execution_count": 75,
   "id": "d71dd6fb",
   "metadata": {},
   "outputs": [
    {
     "data": {
      "text/plain": [
       "YEA\n",
       "2003    0.984615\n",
       "2004    0.874970\n",
       "2005    0.860152\n",
       "2006    0.773918\n",
       "2007    0.798245\n",
       "2008    0.761227\n",
       "2009    0.747279\n",
       "2010    0.751840\n",
       "2011    0.794455\n",
       "2012    0.722391\n",
       "Name: VOT, dtype: float64"
      ]
     },
     "execution_count": 75,
     "metadata": {},
     "output_type": "execute_result"
    }
   ],
   "source": [
    "fraction_positive_votes"
   ]
  },
  {
   "cell_type": "code",
   "execution_count": 76,
   "id": "0256b8c8",
   "metadata": {},
   "outputs": [
    {
     "data": {
      "text/plain": [
       "YEA\n",
       "2008    0.761227\n",
       "Name: VOT, dtype: float64"
      ]
     },
     "execution_count": 76,
     "metadata": {},
     "output_type": "execute_result"
    }
   ],
   "source": [
    "fraction_positive_votes[fraction_positive_votes.index == 2008]"
   ]
  },
  {
   "cell_type": "code",
   "execution_count": 71,
   "id": "e575f7a0",
   "metadata": {},
   "outputs": [
    {
     "data": {
      "text/html": [
       "<div>\n",
       "<style scoped>\n",
       "    .dataframe tbody tr th:only-of-type {\n",
       "        vertical-align: middle;\n",
       "    }\n",
       "\n",
       "    .dataframe tbody tr th {\n",
       "        vertical-align: top;\n",
       "    }\n",
       "\n",
       "    .dataframe thead th {\n",
       "        text-align: right;\n",
       "    }\n",
       "</style>\n",
       "<table border=\"1\" class=\"dataframe\">\n",
       "  <thead>\n",
       "    <tr style=\"text-align: right;\">\n",
       "      <th></th>\n",
       "      <th>VOT</th>\n",
       "    </tr>\n",
       "    <tr>\n",
       "      <th>YEA</th>\n",
       "      <th></th>\n",
       "    </tr>\n",
       "  </thead>\n",
       "  <tbody>\n",
       "    <tr>\n",
       "      <th>2003</th>\n",
       "      <td>3.250000</td>\n",
       "    </tr>\n",
       "    <tr>\n",
       "      <th>2004</th>\n",
       "      <td>14.616197</td>\n",
       "    </tr>\n",
       "    <tr>\n",
       "      <th>2005</th>\n",
       "      <td>28.374060</td>\n",
       "    </tr>\n",
       "    <tr>\n",
       "      <th>2006</th>\n",
       "      <td>49.504481</td>\n",
       "    </tr>\n",
       "    <tr>\n",
       "      <th>2007</th>\n",
       "      <td>45.491400</td>\n",
       "    </tr>\n",
       "    <tr>\n",
       "      <th>2008</th>\n",
       "      <td>51.601923</td>\n",
       "    </tr>\n",
       "    <tr>\n",
       "      <th>2009</th>\n",
       "      <td>59.129338</td>\n",
       "    </tr>\n",
       "    <tr>\n",
       "      <th>2010</th>\n",
       "      <td>58.962264</td>\n",
       "    </tr>\n",
       "    <tr>\n",
       "      <th>2011</th>\n",
       "      <td>59.216418</td>\n",
       "    </tr>\n",
       "    <tr>\n",
       "      <th>2012</th>\n",
       "      <td>63.677419</td>\n",
       "    </tr>\n",
       "  </tbody>\n",
       "</table>\n",
       "</div>"
      ],
      "text/plain": [
       "            VOT\n",
       "YEA            \n",
       "2003   3.250000\n",
       "2004  14.616197\n",
       "2005  28.374060\n",
       "2006  49.504481\n",
       "2007  45.491400\n",
       "2008  51.601923\n",
       "2009  59.129338\n",
       "2010  58.962264\n",
       "2011  59.216418\n",
       "2012  63.677419"
      ]
     },
     "execution_count": 71,
     "metadata": {},
     "output_type": "execute_result"
    }
   ],
   "source": [
    "# average number of votes per RfA per year:\n",
    "avg_per_year = sorted.groupby([\"YEA\",\"TGT\"])[\"VOT\"].count().reset_index()\n",
    "avg_per_year = avg_per_year.groupby(\"YEA\").apply(lambda x: x.mean())\n",
    "avg_per_year = avg_per_year[[\"VOT\"]]\n",
    "avg_per_year"
   ]
  },
  {
   "cell_type": "code",
   "execution_count": 77,
   "id": "ae7ed327",
   "metadata": {},
   "outputs": [
    {
     "data": {
      "text/html": [
       "<div>\n",
       "<style scoped>\n",
       "    .dataframe tbody tr th:only-of-type {\n",
       "        vertical-align: middle;\n",
       "    }\n",
       "\n",
       "    .dataframe tbody tr th {\n",
       "        vertical-align: top;\n",
       "    }\n",
       "\n",
       "    .dataframe thead th {\n",
       "        text-align: right;\n",
       "    }\n",
       "</style>\n",
       "<table border=\"1\" class=\"dataframe\">\n",
       "  <thead>\n",
       "    <tr style=\"text-align: right;\">\n",
       "      <th></th>\n",
       "      <th>VOT</th>\n",
       "    </tr>\n",
       "    <tr>\n",
       "      <th>YEA</th>\n",
       "      <th></th>\n",
       "    </tr>\n",
       "  </thead>\n",
       "  <tbody>\n",
       "    <tr>\n",
       "      <th>2008</th>\n",
       "      <td>51.601923</td>\n",
       "    </tr>\n",
       "  </tbody>\n",
       "</table>\n",
       "</div>"
      ],
      "text/plain": [
       "            VOT\n",
       "YEA            \n",
       "2008  51.601923"
      ]
     },
     "execution_count": 77,
     "metadata": {},
     "output_type": "execute_result"
    }
   ],
   "source": [
    "avg_per_year[avg_per_year.index == 2008]"
   ]
  },
  {
   "cell_type": "code",
   "execution_count": 80,
   "id": "e28cfba6",
   "metadata": {},
   "outputs": [
    {
     "data": {
      "text/html": [
       "<div>\n",
       "<style scoped>\n",
       "    .dataframe tbody tr th:only-of-type {\n",
       "        vertical-align: middle;\n",
       "    }\n",
       "\n",
       "    .dataframe tbody tr th {\n",
       "        vertical-align: top;\n",
       "    }\n",
       "\n",
       "    .dataframe thead th {\n",
       "        text-align: right;\n",
       "    }\n",
       "</style>\n",
       "<table border=\"1\" class=\"dataframe\">\n",
       "  <thead>\n",
       "    <tr style=\"text-align: right;\">\n",
       "      <th></th>\n",
       "      <th>VOT</th>\n",
       "    </tr>\n",
       "    <tr>\n",
       "      <th>YEA</th>\n",
       "      <th></th>\n",
       "    </tr>\n",
       "  </thead>\n",
       "  <tbody>\n",
       "    <tr>\n",
       "      <th>2003</th>\n",
       "      <td>3.250000</td>\n",
       "    </tr>\n",
       "    <tr>\n",
       "      <th>2004</th>\n",
       "      <td>14.616197</td>\n",
       "    </tr>\n",
       "    <tr>\n",
       "      <th>2005</th>\n",
       "      <td>28.374060</td>\n",
       "    </tr>\n",
       "    <tr>\n",
       "      <th>2006</th>\n",
       "      <td>49.504481</td>\n",
       "    </tr>\n",
       "    <tr>\n",
       "      <th>2007</th>\n",
       "      <td>45.491400</td>\n",
       "    </tr>\n",
       "    <tr>\n",
       "      <th>2008</th>\n",
       "      <td>51.601923</td>\n",
       "    </tr>\n",
       "    <tr>\n",
       "      <th>2009</th>\n",
       "      <td>59.129338</td>\n",
       "    </tr>\n",
       "    <tr>\n",
       "      <th>2010</th>\n",
       "      <td>58.962264</td>\n",
       "    </tr>\n",
       "    <tr>\n",
       "      <th>2011</th>\n",
       "      <td>59.216418</td>\n",
       "    </tr>\n",
       "    <tr>\n",
       "      <th>2012</th>\n",
       "      <td>63.677419</td>\n",
       "    </tr>\n",
       "  </tbody>\n",
       "</table>\n",
       "</div>"
      ],
      "text/plain": [
       "            VOT\n",
       "YEA            \n",
       "2003   3.250000\n",
       "2004  14.616197\n",
       "2005  28.374060\n",
       "2006  49.504481\n",
       "2007  45.491400\n",
       "2008  51.601923\n",
       "2009  59.129338\n",
       "2010  58.962264\n",
       "2011  59.216418\n",
       "2012  63.677419"
      ]
     },
     "execution_count": 80,
     "metadata": {},
     "output_type": "execute_result"
    }
   ],
   "source": [
    "avg_per_year"
   ]
  },
  {
   "attachments": {},
   "cell_type": "markdown",
   "id": "3eb6ce4d",
   "metadata": {},
   "source": [
    "- the number of RfAs per year;\n",
    "- the overall fraction of positive votes per year; and \n",
    "- the average number of votes per RfA per year."
   ]
  },
  {
   "cell_type": "code",
   "execution_count": 86,
   "id": "b1732d7e",
   "metadata": {},
   "outputs": [
    {
     "data": {
      "image/png": "[encoded data removed]",
      "text/plain": [
       "<Figure size 800x600 with 3 Axes>"
      ]
     },
     "metadata": {},
     "output_type": "display_data"
    }
   ],
   "source": [
    "# 1.2 \n",
    "%matplotlib inline\n",
    "import matplotlib.pyplot as plt\n",
    "import seaborn as sns \n",
    "fig, ax = plt.subplots(1,3, figsize= (8,6))\n",
    "ax[0].bar(x=RfAs.index, height=RfAs)\n",
    "ax[0].set_title(\"RfAs per year\")\n",
    "ax[0].set_ylabel('Number of RfAs')\n",
    "ax[0].set_xlabel('year')\n",
    "\n",
    "ax[1].bar(x=fraction_positive_votes.index, height = fraction_positive_votes)\n",
    "ax[1].set_title(\"Overall fraction of positive votes per year\", fontsize = 6)\n",
    "ax[1].set_ylabel('Fraction of positive votes')\n",
    "ax[1].set_xlabel('year')\n",
    "\n",
    "ax[2].bar(x=avg_per_year.index, height = avg_per_year[\"VOT\"])\n",
    "ax[2].set_title(\"Average number of votes per RfA per year\", fontsize=6)\n",
    "ax[2].set_ylabel('Average number of votes')\n",
    "ax[2].set_xlabel('year')\n",
    "\n",
    "fig.tight_layout()"
   ]
  },
  {
   "cell_type": "markdown",
   "id": "366d38d9",
   "metadata": {},
   "source": [
    "**1.3** \n",
    "**/Discuss:/** Describe the temporal patterns observed in the plots you did in **T1.2**."
   ]
  },
  {
   "attachments": {},
   "cell_type": "markdown",
   "id": "0c2eea7e",
   "metadata": {},
   "source": [
    "The number of RfAs were higher in 2007, and seems to follow a Gaussian distribution, while the fraction of positive votes decreased through the years while the average number of votes per RfA increased through the years. It may be a causal effect because as more and more RfAs are requested, the positive votes fraction decreased because of this too high number.  "
   ]
  },
  {
   "cell_type": "markdown",
   "id": "e77900f8",
   "metadata": {},
   "source": [
    "**A1.3** \n",
    "*YOUR ANSWER HERE*"
   ]
  },
  {
   "cell_type": "markdown",
   "id": "81126c89",
   "metadata": {},
   "source": [
    "**1.4** \n",
    "Create an undirected graph ([`nx.Graph`](https://networkx.org/documentation/stable/reference/classes/graph.html)) where every node corresponds to a Wikipedia user (source or target of an RfA) and where there exists an edge between two users if at least one of them has voted on the other. Each edge should have attributes corresponding to columns of the dataframe, namely:\n",
    "- `VOT`, which equals `1` if the vote was positive, and `-1` otherwise.\n",
    "- `YEA`, an integer that represents the year of the RfA.\n",
    "\n",
    "**The code to load the graph has been provided to you!** After running it, print the number of nodes and edges in your graph.\n",
    "\n",
    "---\n",
    "\n",
    "**Observation:** Note that we have at most one edge per pair of nodes in the graph, even though two votes may be associated with the pair  — e.g., if A voted in B's RfA in time $t_1$ and B voted in A's RfA in time $t_2$ ($t_1 < t_2$). In these cases, the code provided associates the metadata of the oldest vote ($t_1$ in the example) to the edge between A and B."
   ]
  },
  {
   "cell_type": "code",
   "execution_count": 1,
   "id": "e57d4776",
   "metadata": {},
   "outputs": [],
   "source": [
    "# Provided code! Do not change!\n",
    "import networkx as nx\n",
    "import pandas as pd\n",
    "\n",
    "G = nx.from_pandas_edgelist(pd.read_csv(\"./wiki-RfA.csv\"),\n",
    "                            'SRC', 'TGT', ['VOT', 'RES', 'YEA', 'DAT'], create_using=nx.Graph)"
   ]
  },
  {
   "cell_type": "code",
   "execution_count": 2,
   "id": "f21ec7a6",
   "metadata": {},
   "outputs": [
    {
     "name": "stdout",
     "output_type": "stream",
     "text": [
      "Number of nodes 10831\n",
      "Number of edges 161147\n"
     ]
    }
   ],
   "source": [
    "# 1.4\n",
    "# Print number of edges\n",
    "print(\"Number of nodes\", len(G.nodes))\n",
    "print(\"Number of edges\", len(G.edges))"
   ]
  },
  {
   "cell_type": "markdown",
   "id": "37cbd1b8",
   "metadata": {},
   "source": [
    "**1.5** \n",
    "Plot the **complementary** cumulative distribution of the degree centrality of the undirected graph. Use a logarithmic (base 10) x-axis and a linear y-axis."
   ]
  },
  {
   "cell_type": "code",
   "execution_count": 3,
   "id": "c1edfd6a",
   "metadata": {},
   "outputs": [
    {
     "name": "stdout",
     "output_type": "stream",
     "text": [
      "10831\n"
     ]
    },
    {
     "data": {
      "text/html": [
       "<div>\n",
       "<style scoped>\n",
       "    .dataframe tbody tr th:only-of-type {\n",
       "        vertical-align: middle;\n",
       "    }\n",
       "\n",
       "    .dataframe tbody tr th {\n",
       "        vertical-align: top;\n",
       "    }\n",
       "\n",
       "    .dataframe thead th {\n",
       "        text-align: right;\n",
       "    }\n",
       "</style>\n",
       "<table border=\"1\" class=\"dataframe\">\n",
       "  <thead>\n",
       "    <tr style=\"text-align: right;\">\n",
       "      <th></th>\n",
       "      <th>0</th>\n",
       "    </tr>\n",
       "  </thead>\n",
       "  <tbody>\n",
       "    <tr>\n",
       "      <th>5943</th>\n",
       "      <td>53</td>\n",
       "    </tr>\n",
       "    <tr>\n",
       "      <th>9966</th>\n",
       "      <td>16</td>\n",
       "    </tr>\n",
       "    <tr>\n",
       "      <th>9153</th>\n",
       "      <td>339</td>\n",
       "    </tr>\n",
       "    <tr>\n",
       "      <th>4189</th>\n",
       "      <td>65</td>\n",
       "    </tr>\n",
       "    <tr>\n",
       "      <th>3750</th>\n",
       "      <td>85</td>\n",
       "    </tr>\n",
       "    <tr>\n",
       "      <th>...</th>\n",
       "      <td>...</td>\n",
       "    </tr>\n",
       "    <tr>\n",
       "      <th>8565</th>\n",
       "      <td>1</td>\n",
       "    </tr>\n",
       "    <tr>\n",
       "      <th>6608</th>\n",
       "      <td>3</td>\n",
       "    </tr>\n",
       "    <tr>\n",
       "      <th>8767</th>\n",
       "      <td>2</td>\n",
       "    </tr>\n",
       "    <tr>\n",
       "      <th>5707</th>\n",
       "      <td>1</td>\n",
       "    </tr>\n",
       "    <tr>\n",
       "      <th>5301</th>\n",
       "      <td>1</td>\n",
       "    </tr>\n",
       "  </tbody>\n",
       "</table>\n",
       "<p>10831 rows × 1 columns</p>\n",
       "</div>"
      ],
      "text/plain": [
       "        0\n",
       "5943   53\n",
       "9966   16\n",
       "9153  339\n",
       "4189   65\n",
       "3750   85\n",
       "...   ...\n",
       "8565    1\n",
       "6608    3\n",
       "8767    2\n",
       "5707    1\n",
       "5301    1\n",
       "\n",
       "[10831 rows x 1 columns]"
      ]
     },
     "execution_count": 3,
     "metadata": {},
     "output_type": "execute_result"
    }
   ],
   "source": [
    "# 1.5\n",
    "degree = dict(G.degree)\n",
    "print(len(degree))\n",
    "degree_centrality = pd.DataFrame.from_dict(degree, orient = 'index')\n",
    "degree_centrality"
   ]
  },
  {
   "cell_type": "code",
   "execution_count": 6,
   "id": "58e7acbf",
   "metadata": {},
   "outputs": [
    {
     "data": {
      "text/plain": [
       "Text(0.5, 0, 'Number of degree')"
      ]
     },
     "execution_count": 6,
     "metadata": {},
     "output_type": "execute_result"
    },
    {
     "data": {
      "image/png": "[encoded data removed]",
      "text/plain": [
       "<Figure size 1000x500 with 1 Axes>"
      ]
     },
     "metadata": {},
     "output_type": "display_data"
    }
   ],
   "source": [
    "%matplotlib inline\n",
    "import matplotlib.pyplot as plt\n",
    "import seaborn as sns\n",
    "fig, axs = plt.subplots(1, 1, figsize=(10, 5))\n",
    "sns.ecdfplot(data=degree_centrality, complementary = True, log_scale=[True, False], ax=axs, stat='proportion')\n",
    "axs.set_title(\"Complementary cumulative distribution function (CCDF): degree centrality\")\n",
    "axs.set_xlabel(\"Number of degree\")"
   ]
  },
  {
   "cell_type": "code",
   "execution_count": 7,
   "id": "13c77235",
   "metadata": {},
   "outputs": [
    {
     "data": {
      "text/plain": [
       "Text(0.5, 0, 'Number of degree')"
      ]
     },
     "execution_count": 7,
     "metadata": {},
     "output_type": "execute_result"
    },
    {
     "data": {
      "image/png": "[encoded data removed]",
      "text/plain": [
       "<Figure size 1000x500 with 1 Axes>"
      ]
     },
     "metadata": {},
     "output_type": "display_data"
    }
   ],
   "source": [
    "fig, axs = plt.subplots(1, 1, figsize=(10, 5))\n",
    "sns.ecdfplot(data=degree_centrality, log_scale=[True, False], ax=axs, stat='proportion')\n",
    "axs.set_title(\"Cumulative distribution function (CDF): degree centrality\")\n",
    "axs.set_xlabel(\"Number of degree\")"
   ]
  },
  {
   "cell_type": "markdown",
   "id": "935be3bf",
   "metadata": {},
   "source": [
    "\n",
    "**1.6**\n",
    "**/Discuss:/** Why is the following statement false? Justify your answer. **\"From the graph obtained in task 1.5, one can conclude that around 40% of the users voted at least 11 times.\"**\n"
   ]
  },
  {
   "cell_type": "markdown",
   "id": "3316f395",
   "metadata": {},
   "source": [
    "**A1.6**\n",
    "*YOUR ANSWER HERE*"
   ]
  },
  {
   "attachments": {},
   "cell_type": "markdown",
   "id": "8e36fda8",
   "metadata": {},
   "source": [
    "The degree centrality as defined from the course corresponds to the number of neighbors of node i, hence having many neighbors means this is an important node. Furthermore, it exists only one edge between the nodes hence many neighbors means a lot of users have voted for you or you have voted for them. Hence, a high degree centrality means you are an active voter or people voted a lot for you. \n",
    "By looking at the second plot, we can see that around 70% of the users have voted 11 times or less. Indeed, our first plot is a complementary cumulative distribution function, meaning that 100% of users voted 1000 times or less. Hence, the sentence is wrong and 30% of the users voted maximum 11 times."
   ]
  },
  {
   "cell_type": "markdown",
   "id": "9d1d5f4a",
   "metadata": {},
   "source": [
    "**1.7**\n",
    "What fraction of users voted at least 11 times? Use the data to measure the fraction."
   ]
  },
  {
   "cell_type": "code",
   "execution_count": 4,
   "id": "a167a11b",
   "metadata": {},
   "outputs": [],
   "source": [
    "# 1.7"
   ]
  },
  {
   "attachments": {},
   "cell_type": "markdown",
   "id": "f2dc2e48",
   "metadata": {},
   "source": [
    "Hence, 30% of the users have voted at least 11 times."
   ]
  },
  {
   "cell_type": "markdown",
   "id": "35b05b29",
   "metadata": {},
   "source": [
    "### Task 2: Triangles\n",
    "\n",
    "Next, you set out to investigate the social balance theory by looking at the RfA graph.\n",
    "\n",
    "**2.1**\n",
    "Considering _only_ the RfAs of 2004 (i.e., where `YEA == 2004`), generate all triangles in the undirected graph.\n",
    "Print the number of triangles found.\n",
    "- **Hint:** Note that you can generate a graph with only a subset of nodes and edges via ` G.edge_subgraph`.\n",
    "-  **Hint:** The function `nx.enumerate_all_cliques` generates all cliques in an undirected graph. First, all cliques of size 1 are generated, then all cliques of size 2, etc. Triangles are cliques of size 3.\n"
   ]
  },
  {
   "cell_type": "code",
   "execution_count": 8,
   "id": "cb8d9fe3",
   "metadata": {},
   "outputs": [
    {
     "name": "stdout",
     "output_type": "stream",
     "text": [
      "Edges number in subgraph: 4065 Previous number of edges: 161147\n"
     ]
    }
   ],
   "source": [
    "# 2.1\n",
    "selected_edges = [(u,v) for u,v,e in G.edges(data=True) if e['YEA'] == 2004]\n",
    "print (\"Edges number in subgraph:\", len(selected_edges), \"Previous number of edges:\", len(G.edges))"
   ]
  },
  {
   "cell_type": "code",
   "execution_count": 9,
   "id": "a21e68e3",
   "metadata": {},
   "outputs": [],
   "source": [
    "# create subgraph with selected_edges:\n",
    "H = G.edge_subgraph(selected_edges)"
   ]
  },
  {
   "cell_type": "code",
   "execution_count": 10,
   "id": "b39a403e",
   "metadata": {},
   "outputs": [
    {
     "name": "stdout",
     "output_type": "stream",
     "text": [
      "Number of triangles found: 8448\n"
     ]
    }
   ],
   "source": [
    "# iterate over cliques and keep only those with len(clique) == 3\n",
    "triangles = [clique for clique in nx.enumerate_all_cliques(H) if len(clique) == 3]\n",
    "print(\"Number of triangles found:\", len(triangles))"
   ]
  },
  {
   "cell_type": "markdown",
   "id": "9b8ac389",
   "metadata": {},
   "source": [
    "**2.2 ** **/True or false:/** Is the following statement true or false? Justify your answer. **\"The node with the highest clustering coefficient in an undirected graph is the node that belongs to the largest number of triangles.\"**"
   ]
  },
  {
   "cell_type": "markdown",
   "id": "f961eef7",
   "metadata": {},
   "source": [
    "**A2.2**\n",
    "*YOUR ANSWER HERE*"
   ]
  },
  {
   "attachments": {},
   "cell_type": "markdown",
   "id": "e5d61b85",
   "metadata": {},
   "source": [
    "“A friend of my friend is my friend”: is measured via clustering coefficient Ci of node i, indeed the clustering coefficient is Ci = (#edges among neighbors of i) / (#potential edges among neighbors of i). Hence, it is true, the node with the highest clustering coefficient belongs to the largest number of triangles because the clustering coefficient is a representativity of triadic closures."
   ]
  },
  {
   "cell_type": "markdown",
   "id": "e2f5b22c",
   "metadata": {},
   "source": [
    "**2.3** Considering the set of triangles previously calculated, estimate the fraction of triangles of configurations\n",
    " $\\{+,+,+\\}$,  $\\{-,-,-\\}$,  $\\{+,+,-\\}$, and $\\{+,-,-\\}$. What fraction of triangles are \"balanced\" according to structural balance theory?"
   ]
  },
  {
   "cell_type": "code",
   "execution_count": 36,
   "id": "c101c047",
   "metadata": {},
   "outputs": [
    {
     "data": {
      "text/plain": [
       "1"
      ]
     },
     "execution_count": 36,
     "metadata": {},
     "output_type": "execute_result"
    }
   ],
   "source": [
    "Vot_dict = nx.get_edge_attributes(H, \"VOT\")\n",
    "Vot_dict[(6146, 1558)]"
   ]
  },
  {
   "cell_type": "code",
   "execution_count": null,
   "id": "f858e94c",
   "metadata": {},
   "outputs": [],
   "source": [
    "# 2.3 Compute balanced fraction of triangles:\n",
    "import numpy as np\n",
    "arr = np.zeros(shape=(5,5))\n",
    "frac_1 = []\n",
    "frac_2 = []\n",
    "frac_3 = []\n",
    "frac_4 = []\n",
    "Vot_dict = nx.get_edge_attributes(G, \"VOT\")\n",
    "\n",
    "for u, v, w in triangles: # k is the key of the edge (i.e., the edge number) per node pair (u, v)\n",
    "    if Vot_dict[(u,v)] == 1 & Vot_dict[(u,w)] == 1 & Vot_dict[(v,w)] == 1:\n",
    "      frac_1 +=1\n",
    "    elif Vot_dict[(u,v)] == -1 & Vot_dict[(u,w)] == -1 & Vot_dict[(v,w)] == -1:\n",
    "      frac_2 += 1\n",
    "    elif Vot_dict[(u,v)] == 1 & Vot_dict[(u,w)] == 1 & Vot_dict[(v,w)] == -1:\n",
    "      frac_3 += 1\n",
    "    elif Vot_dict[(u,v)] == 1 & Vot_dict[(u,w)] == -1 & Vot_dict[(v,w)] == -1:\n",
    "      frac_4 +=1"
   ]
  },
  {
   "cell_type": "markdown",
   "id": "97e6f9f0",
   "metadata": {},
   "source": [
    "**2.4** To observe how triangle configurations would be distributed under a random null model, do the following:\n",
    "- Create a new column `VOT_RND` in the dataframe, where RfA votes (i.e., edge signs in the graph) are shuffled, i.e., permuted randomly.  For shuffling, use `numpy.random`, without replacement and with the seed 32 (see code provided below).\n",
    "- Create a new edge attribute with the values of `VOT_RND` in the graph you created in task **1.4**. You can do this easily using the  [`set_edge_attributes`](https://networkx.org/documentation/stable/reference/generated/networkx.classes.function.set_edge_attributes.html) function.\n",
    "- Considering the shuffled edge signs,  compute the fraction of triangles in each configuration ($\\{+,+,+\\}$,  $\\{-,-,-\\}$,  $\\{+,+,-\\}$, $\\{+,-,-\\}$). Moreover, compute the fraction of triangles that are \"balanced\" according to structural balance theory. (Reminder: consider only the RfAs of 2004.)\n"
   ]
  },
  {
   "cell_type": "code",
   "execution_count": 156,
   "id": "8b4cba61",
   "metadata": {},
   "outputs": [],
   "source": [
    "# PROVIDED STUB FOR 2.4\n",
    "import numpy as np\n",
    "np.random.seed(32)\n",
    "df_2004 = wiki[wiki.YEA == 2004].copy(deep=True)\n",
    "df_2004[\"VOT_RND\"] = np.random.choice(df_2004[\"VOT\"].values, size=len(df_2004), replace=False)"
   ]
  },
  {
   "cell_type": "code",
   "execution_count": 159,
   "id": "8bbf5b7c",
   "metadata": {},
   "outputs": [
    {
     "name": "stdout",
     "output_type": "stream",
     "text": [
      "4151 4065\n"
     ]
    }
   ],
   "source": [
    "print(len(df_2004[\"VOT_RND\"]), len(H.edges))"
   ]
  },
  {
   "cell_type": "code",
   "execution_count": 164,
   "id": "49cf240b",
   "metadata": {},
   "outputs": [],
   "source": [
    "# 2.4\n",
    "nx.set_edge_attributes(H, df_2004[\"VOT_RND\"].values, \"vot_rnd\")"
   ]
  },
  {
   "cell_type": "code",
   "execution_count": null,
   "id": "596461fe",
   "metadata": {},
   "outputs": [],
   "source": [
    "# fraction of triangles in each configuration:\n"
   ]
  },
  {
   "cell_type": "markdown",
   "id": "f055a145",
   "metadata": {},
   "source": [
    "**2.5** **/Discuss:/** Do the results of tasks **2.3** and **2.4** suggest that structural balance theory is correct? What kind of subsequent analysis would make you trust that the results are not obtained simply by chance? (No need to actually perform that subsequent analysis here.) Justify your answer."
   ]
  },
  {
   "cell_type": "markdown",
   "id": "dcd070a6",
   "metadata": {},
   "source": [
    "**A2.5** *YOUR ANSWER HERE*"
   ]
  },
  {
   "cell_type": "markdown",
   "id": "d5252ffb",
   "metadata": {},
   "source": [
    "### Interlude: Additional data\n",
    "\n",
    "In the data provided in the file `wiki-RfA.csv.gz` (with which you’ve worked up to now), each column corresponds to a vote from a user $u$ to a user $v$ at a time $t$. \n",
    "\n",
    "In **Task 2**, we did not consider the temporal aspect of this network. For the next task, you are provided with a complimentary dataset (`data/wiki-RfA_extra.csv.gz`) containing, for each vote (uniquely determined by `SRC` and `TGT`), a variety of features. **Importantly, these features were calculated considering only data that was already available at the time when the respective vote was cast.** The features are described as follows.\n",
    "\n",
    "- `PP`, `NN`, `PN` — Each vote (signed edge) is part of zero or more triangles, and we computed the number of triangles in which the two remaining edges were both positive (`PP`), both negative (`NN`) and of different signs (i.e., one positive and one negative, `PN`). This considers only the votes the target (denoted by `TGT`) has received before the current vote. \n",
    "\n",
    "- `P`, `N` — The number of positive (`P`) and negative (`N`) votes that the target `TGT` received before the current vote.\n",
    "\n",
    "- `TXT_PROCESSED` — The text in the original dataset, processed so 1) it is entirely lower-case, 2) it does not contain non-alphanumeric characters, and 3) it does not contain words starting with “supp” or “opp” (since words such as \"support\" and \"oppose\"  are obvious give-away signals of the vote).\n",
    "\n",
    "### Interlude: Predicting edge signs with structural balance theory\n",
    "\n",
    "We can use structural balance theory to predict edge signs. \n",
    "\n",
    "Consider an edge whose sign we do not know, as well as the fractions `PP`, `NN`, and `PN` associated with the edge, as defined above. \n",
    "\n",
    "According to structural balance theory, if `PP` + `NN` $\\geq$ `PN`, the vote is predicted to be positive, as this will create more balanced triangles in the graph. Otherwise, it is predicted to be negative. \n",
    "\n",
    "According to the weak structural balance theory, if `PP` $\\geq$ `PN`, the vote is predicted to be positive, as this will create more balanced triangles in the graph. Otherwise, it is predicted to be negative. \n",
    "\n",
    "Note that in both cases we use “$\\geq$” rather than “<”, i.e., when both sides of the equation are equal, we break ties in favor of positive edges. We do so because there are more positive edges in the graph."
   ]
  },
  {
   "cell_type": "markdown",
   "id": "e2f20eed",
   "metadata": {},
   "source": [
    "### Task 3: Predict it!\n",
    "\n",
    "In the final part of the exam, you will leverage your machine learning and regression skills.\n",
    "\n",
    "**3.1** Merge the new dataset with the original dataframe from task **1** using the columns `SRC` and `TGT`. You may drop the old `TXT` column if you want to. \n"
   ]
  },
  {
   "cell_type": "code",
   "execution_count": 11,
   "id": "a2272113",
   "metadata": {},
   "outputs": [
    {
     "data": {
      "text/html": [
       "<div>\n",
       "<style scoped>\n",
       "    .dataframe tbody tr th:only-of-type {\n",
       "        vertical-align: middle;\n",
       "    }\n",
       "\n",
       "    .dataframe tbody tr th {\n",
       "        vertical-align: top;\n",
       "    }\n",
       "\n",
       "    .dataframe thead th {\n",
       "        text-align: right;\n",
       "    }\n",
       "</style>\n",
       "<table border=\"1\" class=\"dataframe\">\n",
       "  <thead>\n",
       "    <tr style=\"text-align: right;\">\n",
       "      <th></th>\n",
       "      <th>SRC</th>\n",
       "      <th>TGT</th>\n",
       "      <th>YEA</th>\n",
       "      <th>PP</th>\n",
       "      <th>NN</th>\n",
       "      <th>PN</th>\n",
       "      <th>N</th>\n",
       "      <th>P</th>\n",
       "      <th>TXT_PROCESSED</th>\n",
       "    </tr>\n",
       "  </thead>\n",
       "  <tbody>\n",
       "    <tr>\n",
       "      <th>0</th>\n",
       "      <td>2775</td>\n",
       "      <td>7137</td>\n",
       "      <td>2012</td>\n",
       "      <td>0</td>\n",
       "      <td>0</td>\n",
       "      <td>0</td>\n",
       "      <td>0</td>\n",
       "      <td>0</td>\n",
       "      <td>as nom</td>\n",
       "    </tr>\n",
       "    <tr>\n",
       "      <th>1</th>\n",
       "      <td>2652</td>\n",
       "      <td>7137</td>\n",
       "      <td>2012</td>\n",
       "      <td>0</td>\n",
       "      <td>0</td>\n",
       "      <td>0</td>\n",
       "      <td>0</td>\n",
       "      <td>1</td>\n",
       "      <td>i haven t seen this user around but a cursory ...</td>\n",
       "    </tr>\n",
       "    <tr>\n",
       "      <th>2</th>\n",
       "      <td>3356</td>\n",
       "      <td>7137</td>\n",
       "      <td>2012</td>\n",
       "      <td>0</td>\n",
       "      <td>0</td>\n",
       "      <td>0</td>\n",
       "      <td>0</td>\n",
       "      <td>2</td>\n",
       "      <td>level headed tactful and a good communicator i...</td>\n",
       "    </tr>\n",
       "    <tr>\n",
       "      <th>3</th>\n",
       "      <td>4076</td>\n",
       "      <td>7137</td>\n",
       "      <td>2012</td>\n",
       "      <td>0</td>\n",
       "      <td>0</td>\n",
       "      <td>0</td>\n",
       "      <td>0</td>\n",
       "      <td>3</td>\n",
       "      <td>user wizardman span style color 030 wizardman...</td>\n",
       "    </tr>\n",
       "    <tr>\n",
       "      <th>4</th>\n",
       "      <td>5612</td>\n",
       "      <td>7137</td>\n",
       "      <td>2012</td>\n",
       "      <td>0</td>\n",
       "      <td>0</td>\n",
       "      <td>0</td>\n",
       "      <td>0</td>\n",
       "      <td>4</td>\n",
       "      <td>editor needs to spend more time on nascar and...</td>\n",
       "    </tr>\n",
       "    <tr>\n",
       "      <th>...</th>\n",
       "      <td>...</td>\n",
       "      <td>...</td>\n",
       "      <td>...</td>\n",
       "      <td>...</td>\n",
       "      <td>...</td>\n",
       "      <td>...</td>\n",
       "      <td>...</td>\n",
       "      <td>...</td>\n",
       "      <td>...</td>\n",
       "    </tr>\n",
       "    <tr>\n",
       "      <th>166998</th>\n",
       "      <td>3867</td>\n",
       "      <td>5823</td>\n",
       "      <td>2003</td>\n",
       "      <td>0</td>\n",
       "      <td>0</td>\n",
       "      <td>0</td>\n",
       "      <td>0</td>\n",
       "      <td>0</td>\n",
       "      <td>also seems like a good contributor</td>\n",
       "    </tr>\n",
       "    <tr>\n",
       "      <th>166999</th>\n",
       "      <td>1011</td>\n",
       "      <td>3422</td>\n",
       "      <td>2003</td>\n",
       "      <td>0</td>\n",
       "      <td>0</td>\n",
       "      <td>0</td>\n",
       "      <td>0</td>\n",
       "      <td>0</td>\n",
       "      <td></td>\n",
       "    </tr>\n",
       "    <tr>\n",
       "      <th>167000</th>\n",
       "      <td>8629</td>\n",
       "      <td>3422</td>\n",
       "      <td>2003</td>\n",
       "      <td>0</td>\n",
       "      <td>0</td>\n",
       "      <td>0</td>\n",
       "      <td>0</td>\n",
       "      <td>1</td>\n",
       "      <td></td>\n",
       "    </tr>\n",
       "    <tr>\n",
       "      <th>167001</th>\n",
       "      <td>1581</td>\n",
       "      <td>5037</td>\n",
       "      <td>2003</td>\n",
       "      <td>0</td>\n",
       "      <td>0</td>\n",
       "      <td>0</td>\n",
       "      <td>0</td>\n",
       "      <td>0</td>\n",
       "      <td></td>\n",
       "    </tr>\n",
       "    <tr>\n",
       "      <th>167002</th>\n",
       "      <td>10897</td>\n",
       "      <td>5037</td>\n",
       "      <td>2003</td>\n",
       "      <td>0</td>\n",
       "      <td>0</td>\n",
       "      <td>0</td>\n",
       "      <td>0</td>\n",
       "      <td>1</td>\n",
       "      <td>age has nothing to do with maturity</td>\n",
       "    </tr>\n",
       "  </tbody>\n",
       "</table>\n",
       "<p>167003 rows × 9 columns</p>\n",
       "</div>"
      ],
      "text/plain": [
       "          SRC   TGT   YEA  PP  NN  PN  N  P  \\\n",
       "0        2775  7137  2012   0   0   0  0  0   \n",
       "1        2652  7137  2012   0   0   0  0  1   \n",
       "2        3356  7137  2012   0   0   0  0  2   \n",
       "3        4076  7137  2012   0   0   0  0  3   \n",
       "4        5612  7137  2012   0   0   0  0  4   \n",
       "...       ...   ...   ...  ..  ..  .. .. ..   \n",
       "166998   3867  5823  2003   0   0   0  0  0   \n",
       "166999   1011  3422  2003   0   0   0  0  0   \n",
       "167000   8629  3422  2003   0   0   0  0  1   \n",
       "167001   1581  5037  2003   0   0   0  0  0   \n",
       "167002  10897  5037  2003   0   0   0  0  1   \n",
       "\n",
       "                                            TXT_PROCESSED  \n",
       "0                                                 as nom   \n",
       "1       i haven t seen this user around but a cursory ...  \n",
       "2       level headed tactful and a good communicator i...  \n",
       "3        user wizardman span style color 030 wizardman...  \n",
       "4        editor needs to spend more time on nascar and...  \n",
       "...                                                   ...  \n",
       "166998                also seems like a good contributor   \n",
       "166999                                                     \n",
       "167000                                                     \n",
       "167001                                                     \n",
       "167002               age has nothing to do with maturity   \n",
       "\n",
       "[167003 rows x 9 columns]"
      ]
     },
     "execution_count": 11,
     "metadata": {},
     "output_type": "execute_result"
    }
   ],
   "source": [
    "# 3.1\n",
    "extra = pd.read_csv(\"wiki-RfA_extra.csv\")\n",
    "extra"
   ]
  },
  {
   "cell_type": "code",
   "execution_count": 14,
   "id": "b4add182",
   "metadata": {},
   "outputs": [
    {
     "data": {
      "text/html": [
       "<div>\n",
       "<style scoped>\n",
       "    .dataframe tbody tr th:only-of-type {\n",
       "        vertical-align: middle;\n",
       "    }\n",
       "\n",
       "    .dataframe tbody tr th {\n",
       "        vertical-align: top;\n",
       "    }\n",
       "\n",
       "    .dataframe thead th {\n",
       "        text-align: right;\n",
       "    }\n",
       "</style>\n",
       "<table border=\"1\" class=\"dataframe\">\n",
       "  <thead>\n",
       "    <tr style=\"text-align: right;\">\n",
       "      <th></th>\n",
       "      <th>SRC</th>\n",
       "      <th>TGT</th>\n",
       "      <th>VOT</th>\n",
       "      <th>RES</th>\n",
       "      <th>YEA</th>\n",
       "      <th>DAT</th>\n",
       "      <th>TXT</th>\n",
       "    </tr>\n",
       "  </thead>\n",
       "  <tbody>\n",
       "    <tr>\n",
       "      <th>0</th>\n",
       "      <td>5943</td>\n",
       "      <td>9966</td>\n",
       "      <td>-1</td>\n",
       "      <td>-1</td>\n",
       "      <td>2012</td>\n",
       "      <td>2012-12-30 22:27:00</td>\n",
       "      <td>—</td>\n",
       "    </tr>\n",
       "    <tr>\n",
       "      <th>1</th>\n",
       "      <td>9153</td>\n",
       "      <td>9966</td>\n",
       "      <td>-1</td>\n",
       "      <td>-1</td>\n",
       "      <td>2012</td>\n",
       "      <td>2012-12-30 22:25:00</td>\n",
       "      <td>'''Oppose'''. This joke really isn't funny, no...</td>\n",
       "    </tr>\n",
       "    <tr>\n",
       "      <th>2</th>\n",
       "      <td>4189</td>\n",
       "      <td>9966</td>\n",
       "      <td>-1</td>\n",
       "      <td>-1</td>\n",
       "      <td>2012</td>\n",
       "      <td>2012-12-30 22:17:00</td>\n",
       "      <td>'''Oppose''' as per nomination and answers. --...</td>\n",
       "    </tr>\n",
       "    <tr>\n",
       "      <th>3</th>\n",
       "      <td>3750</td>\n",
       "      <td>9966</td>\n",
       "      <td>-1</td>\n",
       "      <td>-1</td>\n",
       "      <td>2012</td>\n",
       "      <td>2012-12-30 22:14:00</td>\n",
       "      <td>'''Oppose''' and '''speeedy close''' this as [...</td>\n",
       "    </tr>\n",
       "    <tr>\n",
       "      <th>4</th>\n",
       "      <td>4225</td>\n",
       "      <td>9966</td>\n",
       "      <td>-1</td>\n",
       "      <td>-1</td>\n",
       "      <td>2012</td>\n",
       "      <td>2012-12-30 22:08:00</td>\n",
       "      <td>'''Oppose''' per nomination and answers. I am ...</td>\n",
       "    </tr>\n",
       "    <tr>\n",
       "      <th>...</th>\n",
       "      <td>...</td>\n",
       "      <td>...</td>\n",
       "      <td>...</td>\n",
       "      <td>...</td>\n",
       "      <td>...</td>\n",
       "      <td>...</td>\n",
       "      <td>...</td>\n",
       "    </tr>\n",
       "    <tr>\n",
       "      <th>166998</th>\n",
       "      <td>3867</td>\n",
       "      <td>2762</td>\n",
       "      <td>1</td>\n",
       "      <td>1</td>\n",
       "      <td>2003</td>\n",
       "      <td>2003-08-23 03:34:00</td>\n",
       "      <td>Also support; Llywrch has been here for ages a...</td>\n",
       "    </tr>\n",
       "    <tr>\n",
       "      <th>166999</th>\n",
       "      <td>8091</td>\n",
       "      <td>8486</td>\n",
       "      <td>1</td>\n",
       "      <td>1</td>\n",
       "      <td>2003</td>\n",
       "      <td>2003-08-21 11:47:00</td>\n",
       "      <td>Support. [[User_talk:Fantasy#Thanks!]] and oth...</td>\n",
       "    </tr>\n",
       "    <tr>\n",
       "      <th>167000</th>\n",
       "      <td>1581</td>\n",
       "      <td>8767</td>\n",
       "      <td>1</td>\n",
       "      <td>1</td>\n",
       "      <td>2003</td>\n",
       "      <td>2003-08-18 23:16:00</td>\n",
       "      <td>Support for WikiQuote, but I haven't seen enou...</td>\n",
       "    </tr>\n",
       "    <tr>\n",
       "      <th>167001</th>\n",
       "      <td>1011</td>\n",
       "      <td>8056</td>\n",
       "      <td>1</td>\n",
       "      <td>1</td>\n",
       "      <td>2003</td>\n",
       "      <td>2003-08-16 01:25:00</td>\n",
       "      <td>Support. Does good things with maps. --</td>\n",
       "    </tr>\n",
       "    <tr>\n",
       "      <th>167002</th>\n",
       "      <td>1011</td>\n",
       "      <td>7238</td>\n",
       "      <td>1</td>\n",
       "      <td>1</td>\n",
       "      <td>2003</td>\n",
       "      <td>2003-08-16 01:25:00</td>\n",
       "      <td>Support. --</td>\n",
       "    </tr>\n",
       "  </tbody>\n",
       "</table>\n",
       "<p>167003 rows × 7 columns</p>\n",
       "</div>"
      ],
      "text/plain": [
       "         SRC   TGT  VOT  RES   YEA                  DAT  \\\n",
       "0       5943  9966   -1   -1  2012  2012-12-30 22:27:00   \n",
       "1       9153  9966   -1   -1  2012  2012-12-30 22:25:00   \n",
       "2       4189  9966   -1   -1  2012  2012-12-30 22:17:00   \n",
       "3       3750  9966   -1   -1  2012  2012-12-30 22:14:00   \n",
       "4       4225  9966   -1   -1  2012  2012-12-30 22:08:00   \n",
       "...      ...   ...  ...  ...   ...                  ...   \n",
       "166998  3867  2762    1    1  2003  2003-08-23 03:34:00   \n",
       "166999  8091  8486    1    1  2003  2003-08-21 11:47:00   \n",
       "167000  1581  8767    1    1  2003  2003-08-18 23:16:00   \n",
       "167001  1011  8056    1    1  2003  2003-08-16 01:25:00   \n",
       "167002  1011  7238    1    1  2003  2003-08-16 01:25:00   \n",
       "\n",
       "                                                      TXT  \n",
       "0                                                       —  \n",
       "1       '''Oppose'''. This joke really isn't funny, no...  \n",
       "2       '''Oppose''' as per nomination and answers. --...  \n",
       "3       '''Oppose''' and '''speeedy close''' this as [...  \n",
       "4       '''Oppose''' per nomination and answers. I am ...  \n",
       "...                                                   ...  \n",
       "166998  Also support; Llywrch has been here for ages a...  \n",
       "166999  Support. [[User_talk:Fantasy#Thanks!]] and oth...  \n",
       "167000  Support for WikiQuote, but I haven't seen enou...  \n",
       "167001            Support. Does good things with maps. --  \n",
       "167002                                        Support. --  \n",
       "\n",
       "[167003 rows x 7 columns]"
      ]
     },
     "execution_count": 14,
     "metadata": {},
     "output_type": "execute_result"
    }
   ],
   "source": [
    "wiki"
   ]
  },
  {
   "cell_type": "code",
   "execution_count": 15,
   "id": "7b525c11",
   "metadata": {},
   "outputs": [
    {
     "data": {
      "text/html": [
       "<div>\n",
       "<style scoped>\n",
       "    .dataframe tbody tr th:only-of-type {\n",
       "        vertical-align: middle;\n",
       "    }\n",
       "\n",
       "    .dataframe tbody tr th {\n",
       "        vertical-align: top;\n",
       "    }\n",
       "\n",
       "    .dataframe thead th {\n",
       "        text-align: right;\n",
       "    }\n",
       "</style>\n",
       "<table border=\"1\" class=\"dataframe\">\n",
       "  <thead>\n",
       "    <tr style=\"text-align: right;\">\n",
       "      <th></th>\n",
       "      <th>SRC</th>\n",
       "      <th>TGT</th>\n",
       "      <th>YEA_x</th>\n",
       "      <th>PP</th>\n",
       "      <th>NN</th>\n",
       "      <th>PN</th>\n",
       "      <th>N</th>\n",
       "      <th>P</th>\n",
       "      <th>TXT_PROCESSED</th>\n",
       "      <th>VOT</th>\n",
       "      <th>RES</th>\n",
       "      <th>YEA_y</th>\n",
       "      <th>DAT</th>\n",
       "    </tr>\n",
       "  </thead>\n",
       "  <tbody>\n",
       "    <tr>\n",
       "      <th>0</th>\n",
       "      <td>2775</td>\n",
       "      <td>7137</td>\n",
       "      <td>2012</td>\n",
       "      <td>0</td>\n",
       "      <td>0</td>\n",
       "      <td>0</td>\n",
       "      <td>0</td>\n",
       "      <td>0</td>\n",
       "      <td>as nom</td>\n",
       "      <td>1</td>\n",
       "      <td>1</td>\n",
       "      <td>2012</td>\n",
       "      <td>2012-08-20 21:29:00</td>\n",
       "    </tr>\n",
       "    <tr>\n",
       "      <th>1</th>\n",
       "      <td>2652</td>\n",
       "      <td>7137</td>\n",
       "      <td>2012</td>\n",
       "      <td>0</td>\n",
       "      <td>0</td>\n",
       "      <td>0</td>\n",
       "      <td>0</td>\n",
       "      <td>1</td>\n",
       "      <td>i haven t seen this user around but a cursory ...</td>\n",
       "      <td>1</td>\n",
       "      <td>1</td>\n",
       "      <td>2012</td>\n",
       "      <td>2012-08-20 21:40:00</td>\n",
       "    </tr>\n",
       "    <tr>\n",
       "      <th>2</th>\n",
       "      <td>3356</td>\n",
       "      <td>7137</td>\n",
       "      <td>2012</td>\n",
       "      <td>0</td>\n",
       "      <td>0</td>\n",
       "      <td>0</td>\n",
       "      <td>0</td>\n",
       "      <td>2</td>\n",
       "      <td>level headed tactful and a good communicator i...</td>\n",
       "      <td>1</td>\n",
       "      <td>1</td>\n",
       "      <td>2012</td>\n",
       "      <td>2012-08-20 22:34:00</td>\n",
       "    </tr>\n",
       "    <tr>\n",
       "      <th>3</th>\n",
       "      <td>4076</td>\n",
       "      <td>7137</td>\n",
       "      <td>2012</td>\n",
       "      <td>0</td>\n",
       "      <td>0</td>\n",
       "      <td>0</td>\n",
       "      <td>0</td>\n",
       "      <td>3</td>\n",
       "      <td>user wizardman span style color 030 wizardman...</td>\n",
       "      <td>1</td>\n",
       "      <td>1</td>\n",
       "      <td>2012</td>\n",
       "      <td>2012-08-20 22:41:00</td>\n",
       "    </tr>\n",
       "    <tr>\n",
       "      <th>4</th>\n",
       "      <td>5612</td>\n",
       "      <td>7137</td>\n",
       "      <td>2012</td>\n",
       "      <td>0</td>\n",
       "      <td>0</td>\n",
       "      <td>0</td>\n",
       "      <td>0</td>\n",
       "      <td>4</td>\n",
       "      <td>editor needs to spend more time on nascar and...</td>\n",
       "      <td>1</td>\n",
       "      <td>1</td>\n",
       "      <td>2012</td>\n",
       "      <td>2012-08-20 22:42:00</td>\n",
       "    </tr>\n",
       "    <tr>\n",
       "      <th>...</th>\n",
       "      <td>...</td>\n",
       "      <td>...</td>\n",
       "      <td>...</td>\n",
       "      <td>...</td>\n",
       "      <td>...</td>\n",
       "      <td>...</td>\n",
       "      <td>...</td>\n",
       "      <td>...</td>\n",
       "      <td>...</td>\n",
       "      <td>...</td>\n",
       "      <td>...</td>\n",
       "      <td>...</td>\n",
       "      <td>...</td>\n",
       "    </tr>\n",
       "    <tr>\n",
       "      <th>166998</th>\n",
       "      <td>3867</td>\n",
       "      <td>5823</td>\n",
       "      <td>2003</td>\n",
       "      <td>0</td>\n",
       "      <td>0</td>\n",
       "      <td>0</td>\n",
       "      <td>0</td>\n",
       "      <td>0</td>\n",
       "      <td>also seems like a good contributor</td>\n",
       "      <td>1</td>\n",
       "      <td>1</td>\n",
       "      <td>2003</td>\n",
       "      <td>2003-12-06 16:05:00</td>\n",
       "    </tr>\n",
       "    <tr>\n",
       "      <th>166999</th>\n",
       "      <td>1011</td>\n",
       "      <td>3422</td>\n",
       "      <td>2003</td>\n",
       "      <td>0</td>\n",
       "      <td>0</td>\n",
       "      <td>0</td>\n",
       "      <td>0</td>\n",
       "      <td>0</td>\n",
       "      <td></td>\n",
       "      <td>1</td>\n",
       "      <td>1</td>\n",
       "      <td>2003</td>\n",
       "      <td>2003-08-31 02:13:00</td>\n",
       "    </tr>\n",
       "    <tr>\n",
       "      <th>167000</th>\n",
       "      <td>8629</td>\n",
       "      <td>3422</td>\n",
       "      <td>2003</td>\n",
       "      <td>0</td>\n",
       "      <td>0</td>\n",
       "      <td>0</td>\n",
       "      <td>0</td>\n",
       "      <td>1</td>\n",
       "      <td></td>\n",
       "      <td>1</td>\n",
       "      <td>1</td>\n",
       "      <td>2003</td>\n",
       "      <td>2003-09-02 02:51:00</td>\n",
       "    </tr>\n",
       "    <tr>\n",
       "      <th>167001</th>\n",
       "      <td>1581</td>\n",
       "      <td>5037</td>\n",
       "      <td>2003</td>\n",
       "      <td>0</td>\n",
       "      <td>0</td>\n",
       "      <td>0</td>\n",
       "      <td>0</td>\n",
       "      <td>0</td>\n",
       "      <td></td>\n",
       "      <td>1</td>\n",
       "      <td>1</td>\n",
       "      <td>2003</td>\n",
       "      <td>2003-11-26 23:45:00</td>\n",
       "    </tr>\n",
       "    <tr>\n",
       "      <th>167002</th>\n",
       "      <td>10897</td>\n",
       "      <td>5037</td>\n",
       "      <td>2003</td>\n",
       "      <td>0</td>\n",
       "      <td>0</td>\n",
       "      <td>0</td>\n",
       "      <td>0</td>\n",
       "      <td>1</td>\n",
       "      <td>age has nothing to do with maturity</td>\n",
       "      <td>1</td>\n",
       "      <td>1</td>\n",
       "      <td>2003</td>\n",
       "      <td>2003-12-05 05:38:00</td>\n",
       "    </tr>\n",
       "  </tbody>\n",
       "</table>\n",
       "<p>167003 rows × 13 columns</p>\n",
       "</div>"
      ],
      "text/plain": [
       "          SRC   TGT  YEA_x  PP  NN  PN  N  P  \\\n",
       "0        2775  7137   2012   0   0   0  0  0   \n",
       "1        2652  7137   2012   0   0   0  0  1   \n",
       "2        3356  7137   2012   0   0   0  0  2   \n",
       "3        4076  7137   2012   0   0   0  0  3   \n",
       "4        5612  7137   2012   0   0   0  0  4   \n",
       "...       ...   ...    ...  ..  ..  .. .. ..   \n",
       "166998   3867  5823   2003   0   0   0  0  0   \n",
       "166999   1011  3422   2003   0   0   0  0  0   \n",
       "167000   8629  3422   2003   0   0   0  0  1   \n",
       "167001   1581  5037   2003   0   0   0  0  0   \n",
       "167002  10897  5037   2003   0   0   0  0  1   \n",
       "\n",
       "                                            TXT_PROCESSED  VOT  RES  YEA_y  \\\n",
       "0                                                 as nom     1    1   2012   \n",
       "1       i haven t seen this user around but a cursory ...    1    1   2012   \n",
       "2       level headed tactful and a good communicator i...    1    1   2012   \n",
       "3        user wizardman span style color 030 wizardman...    1    1   2012   \n",
       "4        editor needs to spend more time on nascar and...    1    1   2012   \n",
       "...                                                   ...  ...  ...    ...   \n",
       "166998                also seems like a good contributor     1    1   2003   \n",
       "166999                                                       1    1   2003   \n",
       "167000                                                       1    1   2003   \n",
       "167001                                                       1    1   2003   \n",
       "167002               age has nothing to do with maturity     1    1   2003   \n",
       "\n",
       "                        DAT  \n",
       "0       2012-08-20 21:29:00  \n",
       "1       2012-08-20 21:40:00  \n",
       "2       2012-08-20 22:34:00  \n",
       "3       2012-08-20 22:41:00  \n",
       "4       2012-08-20 22:42:00  \n",
       "...                     ...  \n",
       "166998  2003-12-06 16:05:00  \n",
       "166999  2003-08-31 02:13:00  \n",
       "167000  2003-09-02 02:51:00  \n",
       "167001  2003-11-26 23:45:00  \n",
       "167002  2003-12-05 05:38:00  \n",
       "\n",
       "[167003 rows x 13 columns]"
      ]
     },
     "execution_count": 15,
     "metadata": {},
     "output_type": "execute_result"
    }
   ],
   "source": [
    "new = pd.merge(extra, wiki, how = 'inner', left_on = ['SRC', 'TGT'], right_on = ['SRC', 'TGT']).drop(\"TXT\", axis=1)\n",
    "new"
   ]
  },
  {
   "cell_type": "markdown",
   "id": "c5d42a2d",
   "metadata": {},
   "source": [
    "**3.2**  Create the following two rule-based classifiers, and for each, estimate its area under the ROC curve (a.k.a. “AUC/ROC”) on the entire dataset:\n",
    "\n",
    "- **A)** a classifier inspired by structural balance theory. The classifier should predict a positive vote if  `PP` + `NN` $\\geq$ `PN`, and a negative vote otherwise.\n",
    "- **B)** a classifier inspired by weak structural balance theory. The classifier should predict a positive vote if `PP`  $\\geq$ `PN` and a negative vote otherwise."
   ]
  },
  {
   "cell_type": "code",
   "execution_count": 9,
   "id": "44643421",
   "metadata": {},
   "outputs": [],
   "source": [
    "# 3.2"
   ]
  },
  {
   "cell_type": "markdown",
   "id": "0161ec09",
   "metadata": {},
   "source": [
    "**3.3** To determine if the differences in the classifiers from task **3.2** occur solely due to chance, follow the following bootstrap procedure, using 200 iterations:\n",
    "\n",
    "- **A)** Randomly sample the entire dataset (i.e., votes from the dataframe constructed in task **3.1**) with replacement;\n",
    "- **B)** Compute the difference of the AUC/ROC for the two classifiers on the entire dataset.\n",
    "\n",
    "Then use the distribution of AUC/ROC differences (one difference per bootstrap iteration) to estimate the 95% confidence interval for the AUC/ROC difference."
   ]
  },
  {
   "cell_type": "code",
   "execution_count": 10,
   "id": "817ee28f",
   "metadata": {},
   "outputs": [],
   "source": [
    "# 3.3 "
   ]
  },
  {
   "cell_type": "markdown",
   "id": "4d0e1569",
   "metadata": {},
   "source": [
    "**3.4 ** **/Discuss:**/ According to the results in tasks **3.2** and **3.3**, which theory better predicts actual edge signs, structural balance theory or the weak structural balance theory? \n"
   ]
  },
  {
   "cell_type": "markdown",
   "id": "94b39801",
   "metadata": {},
   "source": [
    "**A3.4** *YOUR ANSWER HERE*"
   ]
  },
  {
   "cell_type": "markdown",
   "id": "28d37dc1",
   "metadata": {},
   "source": [
    "**3.5** How accurately can we predict the vote with more sophisticated features and algorithms?\n",
    "\n",
    "- Create a TF-IDF representation of the text of each vote  using `sklearn`'s vectorizer ([`sklearn.feature_extraction.text.TfidfVectorizer`](https://scikit-learn.org/stable/modules/generated/sklearn.feature_extraction.text.TfidfVectorizer.html)) with the parameters `max_features=150` and `stop_words='english'`.\n",
    "- Split the  dataset into training and test sets using sklearn [`sklearn.model_selection.train_test_split`](https://scikit-learn.org/stable/modules/generated/sklearn.model_selection.train_test_split.html) using parameters `test_size=0.1` and  `random_state=42`.\n",
    "\n",
    "- Then, train two logistic regression models ([`sklearn.linear_model.SGDClassifier`](https://scikit-learn.org/stable/modules/generated/sklearn.linear_model.SGDClassifier.html)) using parameters `loss='log_loss'` and `max_iter=2000` considering:\n",
    "\n",
    "    - **1)** the TF-IDF feature vector\n",
    "\n",
    "    - **2)** the TF-IDF feature vector and the features `PP`, `NN`, `PN`, `P`, and `N` related to the graph.\n",
    "\n",
    "- Last, report the AUC/ROC of each model in the test set."
   ]
  },
  {
   "cell_type": "code",
   "execution_count": 27,
   "id": "764a00f3",
   "metadata": {},
   "outputs": [],
   "source": [
    "# 1. Split the dataset into training and test sets (70/30 split):\n",
    "from sklearn.model_selection import train_test_split\n",
    "X = new[\"TXT_PROCESSED\"]\n",
    "y = new[\"VOT\"]\n",
    "X_train, X_test, y_train, y_test = train_test_split(X, y, test_size=0.1, random_state=42)"
   ]
  },
  {
   "cell_type": "code",
   "execution_count": 28,
   "id": "4d6fe0b3",
   "metadata": {},
   "outputs": [],
   "source": [
    "X_train = X_train.fillna(\"\")\n",
    "X_test = X_test.fillna(\"\")"
   ]
  },
  {
   "cell_type": "code",
   "execution_count": 29,
   "id": "d0e2c1f9",
   "metadata": {},
   "outputs": [],
   "source": [
    "# 2. Construct a TF-IDF representation of textual content:\n",
    "from sklearn.feature_extraction.text import TfidfVectorizer\n",
    "vectorizer = TfidfVectorizer(max_features = 150, stop_words = \"english\") # does tokenization, stopword removal, and TF-IDF at once\n",
    "X_train = vectorizer.fit_transform(X_train)\n",
    "X_test = vectorizer.transform(X_test)"
   ]
  },
  {
   "cell_type": "code",
   "execution_count": 31,
   "id": "e0da25ab",
   "metadata": {},
   "outputs": [
    {
     "name": "stdout",
     "output_type": "stream",
     "text": [
      "AUC: 0.8543087705535934\n"
     ]
    }
   ],
   "source": [
    "# 3. Train logistic regression models:\n",
    "from sklearn.linear_model import SGDClassifier\n",
    "from sklearn.metrics import roc_auc_score\n",
    "clf_SGD = SGDClassifier(loss='log_loss', max_iter=2000)\n",
    "clf_SGD.fit(X_train, y_train)\n",
    "print(\"AUC:\", roc_auc_score(y_test, clf_SGD.predict_proba(X_test)[:,1]))"
   ]
  },
  {
   "cell_type": "markdown",
   "id": "898cbdd1",
   "metadata": {},
   "source": [
    "**3.6** **/Discuss:**/  According to the results in task **3.5**, does information from the graph help in the task of predicting the vote even when using the text?  What kind of subsequent analysis would make you trust that the results are not obtained simply by chance? (No need to actually perform that subsequent analysis here.) "
   ]
  },
  {
   "cell_type": "markdown",
   "id": "23689872",
   "metadata": {},
   "source": []
  },
  {
   "cell_type": "markdown",
   "id": "6b6767ad",
   "metadata": {},
   "source": [
    "**A3.6** *YOUR ANSWER HERE*"
   ]
  },
  {
   "cell_type": "markdown",
   "id": "7f51071d",
   "metadata": {},
   "source": [
    "**3.7** Putting on your observational studies hat, run two logistic regressions using `statsmodels`.\n",
    "- In the first regression, the vote is the outcome, and `PP`, `NN` and `PN` are the predictors.\n",
    "- In the second regression, the vote is the outcome, and `PP`, `NN`, `PN`, and `N` are the predictors."
   ]
  },
  {
   "cell_type": "code",
   "execution_count": 12,
   "id": "9f8df411",
   "metadata": {},
   "outputs": [],
   "source": [
    "# 3.7"
   ]
  },
  {
   "cell_type": "markdown",
   "id": "db15d090",
   "metadata": {},
   "source": [
    "**3.8** **/Discuss:**/   Explain what the coefficient associated with `PP` means in the first regression. Is it in accordance with structural balance theory?"
   ]
  },
  {
   "cell_type": "markdown",
   "id": "48845787",
   "metadata": {},
   "source": [
    "**A3.8** *YOUR ANSWER HERE*"
   ]
  },
  {
   "cell_type": "markdown",
   "id": "49752dbb",
   "metadata": {},
   "source": [
    "**3.9** **/Discuss:**/   Compare the coefficients associated with `PN` and `NN` in the first vs. the second regression. Present a reason that may explain this difference."
   ]
  },
  {
   "cell_type": "markdown",
   "id": "8ab7612b",
   "metadata": {},
   "source": [
    "**A3.9**  *YOUR ANSWER HERE*"
   ]
  },
  {
   "cell_type": "markdown",
   "id": "207c9147",
   "metadata": {},
   "source": [
    "---"
   ]
  }
 ],
 "metadata": {
  "kernelspec": {
   "display_name": "adaexam",
   "language": "python",
   "name": "python3"
  },
  "language_info": {
   "codemirror_mode": {
    "name": "ipython",
    "version": 3
   },
   "file_extension": ".py",
   "mimetype": "text/x-python",
   "name": "python",
   "nbconvert_exporter": "python",
   "pygments_lexer": "ipython3",
   "version": "3.9.7 (default, Sep 16 2021, 16:59:28) [MSC v.1916 64 bit (AMD64)]"
  },
  "vscode": {
   "interpreter": {
    "hash": "0576dbcc937294c3d93dea19d78a0264f2071c0254c3cc1017c3e1a67e8309a2"
   }
  }
 },
 "nbformat": 4,
 "nbformat_minor": 5
}
